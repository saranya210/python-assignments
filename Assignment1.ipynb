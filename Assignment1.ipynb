{
 "cells": [
  {
   "cell_type": "markdown",
   "metadata": {},
   "source": [
    "# Python Assignment-1\n",
    "\n",
    "                                                                                                  Done By,\n",
    "                                                                                                  (Saranya L)\n"
   ]
  },
  {
   "cell_type": "raw",
   "metadata": {},
   "source": [
    "# 1. Program to find the Largest Number in a List"
   ]
  },
  {
   "cell_type": "code",
   "execution_count": 3,
   "metadata": {},
   "outputs": [],
   "source": [
    "# Method-1: \n",
    "# List of numbers\n",
    "\n",
    "A = [20,10,43,67,21,55]"
   ]
  },
  {
   "cell_type": "code",
   "execution_count": 11,
   "metadata": {
    "scrolled": true
   },
   "outputs": [
    {
     "name": "stdout",
     "output_type": "stream",
     "text": [
      "[10, 20, 21, 43, 55, 67]\n"
     ]
    }
   ],
   "source": [
    "# Sorting the List\n",
    "\n",
    "A.sort()\n",
    "print(A)"
   ]
  },
  {
   "cell_type": "code",
   "execution_count": 7,
   "metadata": {},
   "outputs": [
    {
     "name": "stdout",
     "output_type": "stream",
     "text": [
      "Largest Element is: 67\n"
     ]
    }
   ],
   "source": [
    "# Printing last element#\n",
    "\n",
    "print(\"Largest Element is:\", A[-1])"
   ]
  },
  {
   "cell_type": "code",
   "execution_count": 8,
   "metadata": {},
   "outputs": [
    {
     "name": "stdout",
     "output_type": "stream",
     "text": [
      "Largest element is: 67\n"
     ]
    }
   ],
   "source": [
    "# Method-2:\n",
    "\n",
    "print(\"Largest element is:\", max(A)) "
   ]
  },
  {
   "cell_type": "raw",
   "metadata": {},
   "source": [
    "# 2. Program to Find the Second Largest Number in a List"
   ]
  },
  {
   "cell_type": "code",
   "execution_count": 10,
   "metadata": {},
   "outputs": [
    {
     "name": "stdout",
     "output_type": "stream",
     "text": [
      "[10, 20, 21, 43, 55, 67]\n"
     ]
    }
   ],
   "source": [
    "# Method:1\n",
    "\n",
    "# Sorting the list\n",
    "\n",
    "A.sort()\n",
    "print(A)"
   ]
  },
  {
   "cell_type": "code",
   "execution_count": 13,
   "metadata": {},
   "outputs": [
    {
     "name": "stdout",
     "output_type": "stream",
     "text": [
      "Second largest element is: 55\n"
     ]
    }
   ],
   "source": [
    "# Printing the second last element\n",
    "\n",
    "print(\"Second largest element is:\", A[-2])"
   ]
  },
  {
   "cell_type": "code",
   "execution_count": 13,
   "metadata": {},
   "outputs": [
    {
     "name": "stdout",
     "output_type": "stream",
     "text": [
      "55\n"
     ]
    }
   ],
   "source": [
    "# Method:2\n",
    "\n",
    "A = [20,10,43,67,21,55]\n",
    "\n",
    "# To get unique elements\n",
    "\n",
    "newA = set(A)\n",
    "\n",
    "# Removing the largest element from list1\n",
    "newA.remove(max(newA))\n",
    "\n",
    "# now computing the max element by built-in method\n",
    "print(max(newA))"
   ]
  },
  {
   "cell_type": "raw",
   "metadata": {},
   "source": [
    "#3. Program to Merge Two Lists and Sort it"
   ]
  },
  {
   "cell_type": "code",
   "execution_count": 17,
   "metadata": {},
   "outputs": [
    {
     "name": "stdout",
     "output_type": "stream",
     "text": [
      "[20, 10, 43, 67, 21, 55, 111, 222, 333, 444, 555, 666]\n"
     ]
    }
   ],
   "source": [
    "#Step:1\n",
    "#Defining variables and merging it\n",
    "    \n",
    "A = [20,10,43,67,21,55]\n",
    "\n",
    "B = [111,222,333,444,555,666]\n",
    "\n",
    "C = A + B \n",
    "\n",
    "print(C)"
   ]
  },
  {
   "cell_type": "code",
   "execution_count": 19,
   "metadata": {},
   "outputs": [
    {
     "name": "stdout",
     "output_type": "stream",
     "text": [
      "[10, 20, 21, 43, 55, 67, 111, 222, 333, 444, 555, 666]\n"
     ]
    }
   ],
   "source": [
    "#Step:2\n",
    "# Sorting\n",
    "\n",
    "C.sort()\n",
    "print(C)"
   ]
  },
  {
   "cell_type": "raw",
   "metadata": {},
   "source": [
    "# 4.Program to Swap the First and Last Value of a List"
   ]
  },
  {
   "cell_type": "code",
   "execution_count": 46,
   "metadata": {},
   "outputs": [
    {
     "name": "stdout",
     "output_type": "stream",
     "text": [
      "[55, 10, 43, 67, 21, 20]\n"
     ]
    }
   ],
   "source": [
    "# Method-1\n",
    "\n",
    "A = [20,10,43,67,21,55]\n",
    "\n",
    "A[0], A[-1] = A[-1], A[0] \n",
    "\n",
    "print(A)\n",
    "        "
   ]
  },
  {
   "cell_type": "code",
   "execution_count": 48,
   "metadata": {},
   "outputs": [
    {
     "name": "stdout",
     "output_type": "stream",
     "text": [
      "[55, 10, 43, 67, 21, 20]\n"
     ]
    }
   ],
   "source": [
    "# Method-2\n",
    "\n",
    "A = [20,10,43,67,21,55]\n",
    "\n",
    "first = A.pop(0)    \n",
    "last = A.pop(-1) \n",
    "      \n",
    "A.insert(0,last)   \n",
    "A.append(first)    \n",
    "      \n",
    "print(A)\n",
    "      "
   ]
  },
  {
   "cell_type": "markdown",
   "metadata": {},
   "source": [
    "# End of Assignment                                                               \n",
    "                                                                                             Done By,\n",
    "                                                                                             Saranya L"
   ]
  }
 ],
 "metadata": {
  "kernelspec": {
   "display_name": "Python 3",
   "language": "python",
   "name": "python3"
  },
  "language_info": {
   "codemirror_mode": {
    "name": "ipython",
    "version": 3
   },
   "file_extension": ".py",
   "mimetype": "text/x-python",
   "name": "python",
   "nbconvert_exporter": "python",
   "pygments_lexer": "ipython3",
   "version": "3.8.3"
  }
 },
 "nbformat": 4,
 "nbformat_minor": 4
}
