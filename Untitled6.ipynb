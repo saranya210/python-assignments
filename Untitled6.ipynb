{
 "cells": [
  {
   "cell_type": "markdown",
   "metadata": {},
   "source": [
    "\n",
    "# Python Assignment - 3\n"
   ]
  },
  {
   "cell_type": "code",
   "execution_count": 8,
   "metadata": {},
   "outputs": [
    {
     "name": "stdout",
     "output_type": "stream",
     "text": [
      "{'name': 'Sachin', 'age': 22, 'salary': 60000, 'location': 'New Delhi'}\n"
     ]
    }
   ],
   "source": [
    "#1.Rename key city to location in the following dictionary\n",
    "\n",
    "Skillsanta_Dict={\n",
    "    \"name\":\"Sachin\",\n",
    "    \"age\":22,\n",
    "    \"salary\":60000,\n",
    "    \"city\":\"New Delhi\"\n",
    "}\n",
    "\n",
    "Skillsanta_Dict['location'] = Skillsanta_Dict.pop(\"city\") \n",
    "print (Skillsanta_Dict) \n"
   ]
  },
  {
   "cell_type": "code",
   "execution_count": 121,
   "metadata": {},
   "outputs": [
    {
     "name": "stdout",
     "output_type": "stream",
     "text": [
      "Original list  [11, 45, 8, 11, 23, 45, 23, 45, 89]\n",
      "Printing count of each item   {11: 2, 45: 3, 8: 1, 23: 2, 89: 1}\n"
     ]
    }
   ],
   "source": [
    "#2. Given a list iterate it and count the occurrence of each element and create a dictionary\n",
    "#   to show the count of each element \n",
    "   \n",
    "sampleList = [11, 45, 8, 11, 23, 45, 23, 45, 89]\n",
    "print(\"Original list \", sampleList)\n",
    "\n",
    "countDict = dict()\n",
    "for item in sampleList:\n",
    "  if(item in countDict):\n",
    "    countDict[item] += 1\n",
    "  else:\n",
    "    countDict[item] = 1\n",
    "  \n",
    "print(\"Printing count of each item  \",countDict)"
   ]
  },
  {
   "cell_type": "code",
   "execution_count": 123,
   "metadata": {},
   "outputs": [
    {
     "name": "stdout",
     "output_type": "stream",
     "text": [
      "unique items: [87, 45, 41, 65, 94, 99]\n",
      "tuple: (87, 45, 41, 65, 94, 99)\n",
      "min: 41\n",
      "max: 99\n"
     ]
    }
   ],
   "source": [
    "#3. Remove duplicate from a list and create a tuple and find the minimum and maximum number\n",
    "\n",
    "def Remove(duplicate): \n",
    "    final_list = [] \n",
    "    for num in duplicate: \n",
    "        if num not in final_list: \n",
    "            final_list.append(num) \n",
    "    return final_list \n",
    "      \n",
    "duplicate = [87,45,41,65,94,41,99,94] \n",
    "print(\"unique items:\" ,Remove(duplicate)) \n",
    "\n",
    "tup = (87, 45, 41, 65, 94, 99)\n",
    "print(\"tuple:\",(tup)) \n",
    "\n",
    "duplicate = [87,45,41,65,94,41,99,94]\n",
    "\n",
    "min(duplicate)\n",
    "print(\"min:\",min(duplicate))\n",
    "\n",
    "max(duplicate)\n",
    "print(\"max:\",max(duplicate))\n"
   ]
  },
  {
   "cell_type": "code",
   "execution_count": 119,
   "metadata": {},
   "outputs": [
    {
     "name": "stdout",
     "output_type": "stream",
     "text": [
      "Employee Eddy salary is: 50000\n",
      "Employee Eddy salary is: 50000\n"
     ]
    }
   ],
   "source": [
    "#4.Create a function showEmployee()in such a way that it should accept employee name, and it's salary\n",
    "#  and display both, and if the salary is missing in function call it should show it as 50000\n",
    "\n",
    "def showEmployee(name, salary=50000):\n",
    "    print(\"Employee\", name, \"salary is:\", salary)\n",
    "\n",
    "showEmployee(\"Eddy\", 50000)\n",
    "showEmployee(\"Eddy\")\n",
    "\n"
   ]
  },
  {
   "cell_type": "code",
   "execution_count": 120,
   "metadata": {},
   "outputs": [
    {
     "name": "stdout",
     "output_type": "stream",
     "text": [
      "20\n"
     ]
    }
   ],
   "source": [
    "#5. Create an inner function to calculate the addition in the following way:\n",
    "#Create an outer function tht will accept two parameters a and b\n",
    "#Create an inner function inside an outer function that will calculate the addition of a and b\n",
    "#At last,an outer function will add 5 into addition and return it\n",
    "\n",
    "def outerFun(a, b):\n",
    "    square = a**2\n",
    "    def innerFun(a,b):\n",
    "        return a+b\n",
    "    add = innerFun(a, b)\n",
    "    return add+5\n",
    "\n",
    "result = outerFun(5, 10)\n",
    "print(result)"
   ]
  },
  {
   "cell_type": "code",
   "execution_count": 132,
   "metadata": {},
   "outputs": [
    {
     "name": "stdout",
     "output_type": "stream",
     "text": [
      "13\n"
     ]
    }
   ],
   "source": [
    "#6.Write a recursive function to print the fibonacci series of n numbers\n",
    "\n",
    "def fibonacci(n):\n",
    "  if n == 1 or n == 2:\n",
    "    return 1\n",
    "  else:\n",
    "    return (fibonacci(n - 1) + (fibonacci(n - 2)))\n",
    "\n",
    "print(fibonacci(7))\n"
   ]
  },
  {
   "cell_type": "code",
   "execution_count": 118,
   "metadata": {},
   "outputs": [
    {
     "name": "stdout",
     "output_type": "stream",
     "text": [
      "Prad 26\n",
      "Prad 26\n"
     ]
    }
   ],
   "source": [
    "#7.Assign a different name to function and call it through the new name\n",
    "\n",
    "def details(name, age):\n",
    "    print(name, age)\n",
    "\n",
    "details(\"Prad\", 26)\n",
    "\n",
    "show = details\n",
    "show(\"Prad\", 26)"
   ]
  },
  {
   "cell_type": "code",
   "execution_count": 142,
   "metadata": {},
   "outputs": [
    {
     "name": "stdout",
     "output_type": "stream",
     "text": [
      "Enter the mobile number: 978564\n",
      "Not a vaild number. Please re-enter \n",
      "Enter the mobile number: 9123456789\n"
     ]
    }
   ],
   "source": [
    "#8.Create a python function which takes a mobile number from the user until the user would not give you\n",
    "#a proper mobile number.If a user gives the wrong input you have to take input  again from the user, \n",
    "#once get proper number stop asking\n",
    "\n",
    "def valid(phone_num):\n",
    "    if len(phone_num) != 10:\n",
    "        return False\n",
    "    if phone_num[0] != '9':\n",
    "        return False\n",
    "    return True\n",
    "while True:\n",
    "    mobilenum = input(\"Enter the mobile number: \")\n",
    "    if valid(mobilenum):\n",
    "        break\n",
    "    else:\n",
    "        print(\"Not a vaild number. Please re-enter \")"
   ]
  },
  {
   "cell_type": "code",
   "execution_count": 83,
   "metadata": {},
   "outputs": [
    {
     "name": "stdout",
     "output_type": "stream",
     "text": [
      "Original String :  The quick Brown Fox\n",
      "No. of Upper case characters :  3\n",
      "No. of Lower case Characters :  13\n"
     ]
    }
   ],
   "source": [
    "#9.Write a python function that accepts a string and calculates the number of uppercases and lowercases letters.\n",
    "\n",
    "def string_test(s):\n",
    "    d={\"UPPER_CASE\":0, \"LOWER_CASE\":0}\n",
    "    for c in s:\n",
    "        if c.isupper():\n",
    "           d[\"UPPER_CASE\"]+=1\n",
    "        elif c.islower():\n",
    "           d[\"LOWER_CASE\"]+=1\n",
    "        else:\n",
    "           pass\n",
    "    print (\"Original String : \", s)\n",
    "    print (\"No. of Upper case characters : \", d[\"UPPER_CASE\"])\n",
    "    print (\"No. of Lower case Characters : \", d[\"LOWER_CASE\"])\n",
    "\n",
    "string_test('The quick Brown Fox')"
   ]
  },
  {
   "cell_type": "code",
   "execution_count": 84,
   "metadata": {},
   "outputs": [
    {
     "name": "stdout",
     "output_type": "stream",
     "text": [
      "True\n"
     ]
    }
   ],
   "source": [
    "#10.Write a python function to check whether a number is perfect or not. \n",
    "\n",
    "def perfect_number(n):\n",
    "    sum = 0\n",
    "    for x in range(1, n):\n",
    "        if n % x == 0:\n",
    "            sum += x\n",
    "    return sum == n\n",
    "print(perfect_number(6))"
   ]
  }
 ],
 "metadata": {
  "kernelspec": {
   "display_name": "Python 3",
   "language": "python",
   "name": "python3"
  },
  "language_info": {
   "codemirror_mode": {
    "name": "ipython",
    "version": 3
   },
   "file_extension": ".py",
   "mimetype": "text/x-python",
   "name": "python",
   "nbconvert_exporter": "python",
   "pygments_lexer": "ipython3",
   "version": "3.8.3"
  }
 },
 "nbformat": 4,
 "nbformat_minor": 4
}
